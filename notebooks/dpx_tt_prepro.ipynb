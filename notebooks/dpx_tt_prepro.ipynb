{
 "cells": [
  {
   "cell_type": "code",
   "execution_count": 40,
   "metadata": {},
   "outputs": [],
   "source": [
    "# Working directory\n",
    "import os\n",
    "os.chdir('/Users/Josealanis/Documents/Experiments/dpx_tt/eeg/')\n",
    "\n",
    "#import numpy as np\n",
    "import mne\n",
    "from mne.preprocessing import ICA\n",
    "from mne.preprocessing import create_eog_epochs"
   ]
  },
  {
   "cell_type": "code",
   "execution_count": 41,
   "metadata": {},
   "outputs": [
    {
     "name": "stdout",
     "output_type": "stream",
     "text": [
      "Extracting EDF parameters from ./bdfs/data2.bdf...\n",
      "BDF file detected\n",
      "Setting channel info structure...\n",
      "Creating raw.info structure...\n",
      "The following EEG sensors did not have a position specified in the selected montage: ['EOGV_oben', 'EOGV_unten']. Their position has been left untouched.\n",
      "Reading 0 ... 1034495  =      0.000 ...  4040.996 secs...\n"
     ]
    },
    {
     "name": "stderr",
     "output_type": "stream",
     "text": [
      "<ipython-input-41-ff2ba4946600>:15: RuntimeWarning: The following EEG sensors did not have a position specified in the selected montage: ['EOGV_oben', 'EOGV_unten']. Their position has been left untouched.\n",
      "  'EXG5', 'EXG6', 'EXG7', 'EXG8'])\n"
     ]
    },
    {
     "data": {
      "text/plain": [
       "<Info | 18 non-empty fields\n",
       "    bads : list | 0 items\n",
       "    buffer_size_sec : float | 1.0\n",
       "    ch_names : list | Fp1, AF7, AF3, F1, F3, F5, F7, FT7, FC5, ...\n",
       "    chs : list | 67 items (EEG: 66, STIM: 1)\n",
       "    comps : list | 0 items\n",
       "    custom_ref_applied : bool | False\n",
       "    dev_head_t : Transform | 3 items\n",
       "    dig : list | 67 items\n",
       "    events : list | 0 items\n",
       "    highpass : float | 0.0 Hz\n",
       "    hpi_meas : list | 0 items\n",
       "    hpi_results : list | 0 items\n",
       "    lowpass : float | 52.0 Hz\n",
       "    meas_date : int | 1434474755\n",
       "    nchan : int | 67\n",
       "    proc_history : list | 0 items\n",
       "    projs : list | 0 items\n",
       "    sfreq : float | 256.0 Hz\n",
       "    acq_pars : NoneType\n",
       "    acq_stim : NoneType\n",
       "    ctf_head_t : NoneType\n",
       "    description : NoneType\n",
       "    dev_ctf_t : NoneType\n",
       "    experimenter : NoneType\n",
       "    file_id : NoneType\n",
       "    gantry_angle : NoneType\n",
       "    hpi_subsystem : NoneType\n",
       "    kit_system_id : NoneType\n",
       "    line_freq : NoneType\n",
       "    meas_id : NoneType\n",
       "    proj_id : NoneType\n",
       "    proj_name : NoneType\n",
       "    subject_info : NoneType\n",
       "    xplotter_layout : NoneType\n",
       ">"
      ]
     },
     "execution_count": 41,
     "metadata": {},
     "output_type": "execute_result"
    }
   ],
   "source": [
    "#%% READ IN THE DATA\n",
    "\n",
    "# EEG montage\n",
    "montage = mne.channels.read_montage(kind = 'biosemi64')\n",
    "\n",
    "#cd '~/Documents/Experiments/dpx_tt/eeg/bdfs/'\n",
    "data_path = './bdfs/data2.bdf'\n",
    "\n",
    "# Import raw data\n",
    "raw = mne.io.read_raw_edf(data_path, \n",
    "                          montage = montage, \n",
    "                          preload = True, \n",
    "                          stim_channel = -1, \n",
    "                          exclude = ['EOGH_rechts', 'EOGH_links', \n",
    "                                     'EXG5', 'EXG6', 'EXG7', 'EXG8'])\n",
    "\n",
    "# Get data information\n",
    "raw.info\n"
   ]
  },
  {
   "cell_type": "code",
   "execution_count": 3,
   "metadata": {},
   "outputs": [
    {
     "data": {
      "text/plain": [
       "<Info | 18 non-empty fields\n",
       "    bads : list | 0 items\n",
       "    buffer_size_sec : float | 1.0\n",
       "    ch_names : list | Fp1, AF7, AF3, F1, F3, F5, F7, FT7, FC5, ...\n",
       "    chs : list | 67 items (EEG: 64, EOG: 2, STIM: 1)\n",
       "    comps : list | 0 items\n",
       "    custom_ref_applied : bool | False\n",
       "    description : str | 12 items\n",
       "    dev_head_t : Transform | 3 items\n",
       "    dig : list | 67 items\n",
       "    events : list | 0 items\n",
       "    highpass : float | 0.0 Hz\n",
       "    hpi_meas : list | 0 items\n",
       "    hpi_results : list | 0 items\n",
       "    lowpass : float | 128.0 Hz\n",
       "    nchan : int | 67\n",
       "    proc_history : list | 0 items\n",
       "    projs : list | 0 items\n",
       "    sfreq : float | 256.0 Hz\n",
       "    acq_pars : NoneType\n",
       "    acq_stim : NoneType\n",
       "    ctf_head_t : NoneType\n",
       "    dev_ctf_t : NoneType\n",
       "    experimenter : NoneType\n",
       "    file_id : NoneType\n",
       "    gantry_angle : NoneType\n",
       "    hpi_subsystem : NoneType\n",
       "    kit_system_id : NoneType\n",
       "    line_freq : NoneType\n",
       "    meas_date : NoneType\n",
       "    meas_id : NoneType\n",
       "    proj_id : NoneType\n",
       "    proj_name : NoneType\n",
       "    subject_info : NoneType\n",
       "    xplotter_layout : NoneType\n",
       ">"
      ]
     },
     "execution_count": 3,
     "metadata": {},
     "output_type": "execute_result"
    }
   ],
   "source": [
    "#%% EDIT INFORMATION\n",
    "\n",
    "# Note the sampling rate of recording\n",
    "sfreq = raw.info['sfreq']\n",
    "sfreq = int(sfreq)\n",
    "# and Buffer size ???\n",
    "bsize = raw.info['buffer_size_sec']\n",
    "\n",
    "# Channel names\n",
    "chans = raw.info['ch_names'][0:64]\n",
    "chans.extend(['EXG1', 'EXG2', 'Stim'])\n",
    "\n",
    "# Write a list of channel types (e.g., eeg, eog, ecg)\n",
    "chan_types = ['eeg', 'eeg', 'eeg', 'eeg', 'eeg', \n",
    "              'eeg', 'eeg', 'eeg', 'eeg', 'eeg', \n",
    "              'eeg', 'eeg', 'eeg', 'eeg', 'eeg', \n",
    "              'eeg', 'eeg', 'eeg', 'eeg', 'eeg', \n",
    "              'eeg', 'eeg', 'eeg', 'eeg', 'eeg', \n",
    "              'eeg', 'eeg', 'eeg', 'eeg', 'eeg', \n",
    "              'eeg', 'eeg', 'eeg', 'eeg', 'eeg', \n",
    "              'eeg', 'eeg', 'eeg', 'eeg', 'eeg', \n",
    "              'eeg', 'eeg', 'eeg', 'eeg', 'eeg', \n",
    "              'eeg', 'eeg', 'eeg', 'eeg', 'eeg', \n",
    "              'eeg', 'eeg', 'eeg', 'eeg', 'eeg',\n",
    "              'eeg', 'eeg', 'eeg', 'eeg', 'eeg', \n",
    "              'eeg', 'eeg', 'eeg', 'eeg',\n",
    "              'eog', 'eog', 'stim']\n",
    "\n",
    "# Bring it all together with \n",
    "# MNE.function for creating custom EEG info files\n",
    "info_custom = mne.create_info(chans, sfreq, chan_types, montage)\n",
    "\n",
    "# You also my add a short description of the data set\n",
    "info_custom['description'] = 'DPX Baseline'\n",
    "\n",
    "# Replace the mne info structure with the customized one \n",
    "# which has the correct labels, channel types and positions.\n",
    "raw.info = info_custom\n",
    "raw.info['buffer_size_sec'] = bsize\n",
    "\n",
    "# check data information \n",
    "raw.info"
   ]
  },
  {
   "cell_type": "code",
   "execution_count": 4,
   "metadata": {},
   "outputs": [
    {
     "name": "stdout",
     "output_type": "stream",
     "text": [
      "Trigger channel has a non-zero initial value of 65536 (consider using initial_event=True to detect this event)\n",
      "1757 events found\n",
      "Event IDs: [   12    13    70    71    72    73    74    75    76    77    78    79\n",
      "    80    81   112   113   127   245 65536 65649 65662]\n"
     ]
    }
   ],
   "source": [
    "#%% GET EVENT INFORMATION\n",
    "# Next, define the type of data you have provided in 'picks'\n",
    "picks = mne.pick_types(raw.info, \n",
    "                       meg = False, \n",
    "                       eeg = True, \n",
    "                       eog = True,\n",
    "                       stim = True)\n",
    "\n",
    "\n",
    "# EVENTS\n",
    "events = mne.find_events(raw, \n",
    "                         stim_channel = 'Stim', \n",
    "                         output = 'onset', \n",
    "                         min_duration = 0.002)\n",
    "\n",
    "# EVENTS THAT ARE CUE STIMULI\n",
    "evs = events[(events[:,2] >= 70) & (events[:,2] <= 75), ]\n",
    "# LATENCIES\n",
    "latencies = events[(events[:,2] >= 70) & (events[:,2] <= 75), 0]\n",
    "# DIFFERENCE BETWEEN TWO CONSEQUITIVE CUES\n",
    "diffs = [x-y for x, y in zip(latencies, latencies[1:])]\n",
    "# GET FIRST EVENT AFTER BREAKS (pauses between blocks,\n",
    "# time difference between two events is > 10 seconds)\n",
    "diffs  = [abs(number)/sfreq for number in diffs]\n",
    "breaks = [i+1 for i in range(len(diffs)) if diffs[i] > 10]\n",
    "\n",
    "# start first block\n",
    "b1s = ( latencies[ breaks[0] ] - (2*sfreq) ) / sfreq\n",
    "# end of frist block\n",
    "b1e = ( latencies[ (breaks[1]-1) ] + (6*sfreq) ) / sfreq\n",
    "\n",
    "# start second block\n",
    "b2s = ( latencies[ breaks[1] ] - (2*sfreq) ) / sfreq\n",
    "# end of frist block\n",
    "b2e = ( latencies[ (breaks[2]-1) ] + (6*sfreq) ) / sfreq"
   ]
  },
  {
   "cell_type": "code",
   "execution_count": 28,
   "metadata": {},
   "outputs": [
    {
     "name": "stdout",
     "output_type": "stream",
     "text": [
      "Block 1 from 758.551 to 1479.496     Block lenght  720.945\n",
      "Block 2 from 1553.004 to 2273.297     Block lenght  720.293\n"
     ]
    }
   ],
   "source": [
    "# Block infos\n",
    "print('Block 1 from', round(b1s, 3), 'to', round(b1e, 3), '    Block lenght ', round(b1e-b1s, 3))\n",
    "print('Block 2 from', round(b2s, 3), 'to', round(b2e, 3), '    Block lenght ', round(b2e-b2s, 3))\n"
   ]
  },
  {
   "cell_type": "code",
   "execution_count": 36,
   "metadata": {},
   "outputs": [],
   "source": [
    "#%% Concatenate blocks data\n",
    "# Block 1\n",
    "raw_bl1 = raw.copy().crop(tmin = b1s, tmax = b1e)\n",
    "# Block 2\n",
    "raw_bl2 = raw.copy().crop(tmin = b2s, tmax = b2e)\n",
    "\n",
    "# Bind them together\n",
    "raw_blocks = mne.concatenate_raws([raw_bl1, raw_bl2])"
   ]
  },
  {
   "cell_type": "code",
   "execution_count": 37,
   "metadata": {
    "scrolled": false
   },
   "outputs": [
    {
     "data": {
      "text/plain": [
       "<RawEDF  |  data2.bdf, n_channels x n_times : 67 x 368959 (1441.2 sec), ~188.8 MB, data loaded>"
      ]
     },
     "execution_count": 37,
     "metadata": {},
     "output_type": "execute_result"
    }
   ],
   "source": [
    "raw_bl1"
   ]
  },
  {
   "cell_type": "code",
   "execution_count": 33,
   "metadata": {
    "scrolled": true
   },
   "outputs": [
    {
     "data": {
      "text/plain": [
       "<RawEDF  |  data2.bdf, n_channels x n_times : 67 x 184396 (720.3 sec), ~94.4 MB, data loaded>"
      ]
     },
     "execution_count": 33,
     "metadata": {},
     "output_type": "execute_result"
    }
   ],
   "source": [
    "raw_bl2"
   ]
  },
  {
   "cell_type": "code",
   "execution_count": null,
   "metadata": {},
   "outputs": [],
   "source": [
    "#%% CHECK if data ok\n",
    "%matplotlib notebook\n",
    "raw_blocks.plot(scalings = dict(eeg=50e-6), n_channels = 66)"
   ]
  },
  {
   "cell_type": "code",
   "execution_count": 38,
   "metadata": {},
   "outputs": [
    {
     "name": "stdout",
     "output_type": "stream",
     "text": [
      "774 events found\n",
      "Event IDs: [ 12  13  70  71  72  73  74  75  76  77  78  79  80  81 112 113]\n"
     ]
    },
    {
     "data": {
      "text/plain": [
       "258"
      ]
     },
     "execution_count": 38,
     "metadata": {},
     "output_type": "execute_result"
    }
   ],
   "source": [
    "#%% NUMBER OF TRIALS IN CONCATENATED DATASET\n",
    "keeps = mne.find_events(raw_blocks, \n",
    "                        stim_channel = 'Stim', \n",
    "                        output = 'onset', \n",
    "                        min_duration=0.002)\n",
    "\n",
    "len(keeps[(keeps[:,2] >= 70) & (keeps[:,2] <= 75), ])"
   ]
  },
  {
   "cell_type": "code",
   "execution_count": null,
   "metadata": {},
   "outputs": [],
   "source": [
    "#%% FILTER and REREFERENCE the data to reduce noise and remove artefact frequencies.\n",
    "\n",
    "# Apply filter and average reference\n",
    "raw_blocks.filter(0.1, 50., \n",
    "                  n_jobs = 1, \n",
    "                  fir_design = 'firwin') \n",
    "raw_blocks.set_eeg_reference(ref_channels = 'average', \n",
    "                             projection = False)"
   ]
  },
  {
   "cell_type": "code",
   "execution_count": null,
   "metadata": {},
   "outputs": [],
   "source": [
    "#%% ICA DECOMPOSITION\n",
    "\n",
    "# Define electrodes to include in ICA\n",
    "picks = mne.pick_types(raw_blocks.info, \n",
    "                       meg = False, \n",
    "                       eeg = True, \n",
    "                       eog = False,\n",
    "                       stim = False)\n",
    "n_components = 25\n",
    "method = 'extended-infomax'\n",
    "#decim = 3\n",
    "reject = None\n",
    "ica = ICA(n_components=n_components, method=method)\n",
    "ica.fit(raw_blocks.copy().filter(1,50), picks=picks, reject = dict(eeg = 3e-4))\n",
    "#ica.fit(raw.copy().filter(1,50), picks=picks, reject=reject) "
   ]
  },
  {
   "cell_type": "code",
   "execution_count": 39,
   "metadata": {},
   "outputs": [
    {
     "data": {
      "text/plain": [
       "<Info | 18 non-empty fields\n",
       "    bads : list | 0 items\n",
       "    buffer_size_sec : float | 1.0\n",
       "    ch_names : list | Fp1, AF7, AF3, F1, F3, F5, F7, FT7, FC5, ...\n",
       "    chs : list | 67 items (EEG: 64, EOG: 2, STIM: 1)\n",
       "    comps : list | 0 items\n",
       "    custom_ref_applied : bool | False\n",
       "    description : str | 12 items\n",
       "    dev_head_t : Transform | 3 items\n",
       "    dig : list | 67 items\n",
       "    events : list | 0 items\n",
       "    highpass : float | 0.0 Hz\n",
       "    hpi_meas : list | 0 items\n",
       "    hpi_results : list | 0 items\n",
       "    lowpass : float | 128.0 Hz\n",
       "    nchan : int | 67\n",
       "    proc_history : list | 0 items\n",
       "    projs : list | 0 items\n",
       "    sfreq : float | 256.0 Hz\n",
       "    acq_pars : NoneType\n",
       "    acq_stim : NoneType\n",
       "    ctf_head_t : NoneType\n",
       "    dev_ctf_t : NoneType\n",
       "    experimenter : NoneType\n",
       "    file_id : NoneType\n",
       "    gantry_angle : NoneType\n",
       "    hpi_subsystem : NoneType\n",
       "    kit_system_id : NoneType\n",
       "    line_freq : NoneType\n",
       "    meas_date : NoneType\n",
       "    meas_id : NoneType\n",
       "    proj_id : NoneType\n",
       "    proj_name : NoneType\n",
       "    subject_info : NoneType\n",
       "    xplotter_layout : NoneType\n",
       ">"
      ]
     },
     "execution_count": 39,
     "metadata": {},
     "output_type": "execute_result"
    }
   ],
   "source": [
    "#raw_blocks.info"
   ]
  },
  {
   "cell_type": "code",
   "execution_count": null,
   "metadata": {},
   "outputs": [],
   "source": [
    "ica.plot_components()"
   ]
  }
 ],
 "metadata": {
  "kernelspec": {
   "display_name": "Python 3",
   "language": "python",
   "name": "python3"
  },
  "language_info": {
   "codemirror_mode": {
    "name": "ipython",
    "version": 3
   },
   "file_extension": ".py",
   "mimetype": "text/x-python",
   "name": "python",
   "nbconvert_exporter": "python",
   "pygments_lexer": "ipython3",
   "version": "3.6.5"
  }
 },
 "nbformat": 4,
 "nbformat_minor": 2
}
